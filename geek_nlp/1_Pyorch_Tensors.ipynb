{
 "cells": [
  {
   "cell_type": "markdown",
   "id": "ead6de9e",
   "metadata": {},
   "source": [
    "# OverView"
   ]
  },
  {
   "cell_type": "markdown",
   "id": "d2aa5c59",
   "metadata": {},
   "source": [
    "In this series of tutorials, we will introduce some basics of Pytorch. Pay attention that the API's of any library will be subject to changes, therefore it is very important the offcial documentation before proceeding.\n",
    "\n",
    "we will cover the following materials in the tutorial.\n",
    "\n",
    "1. Create tensors\n",
    "2. some common mainpulations(including boardcast and einsum)"
   ]
  },
  {
   "cell_type": "code",
   "execution_count": 3,
   "id": "16940822",
   "metadata": {},
   "outputs": [
    {
     "data": {
      "text/plain": [
       "tensor([[0.0000, 1.0000],\n",
       "        [0.1000, 0.2000]])"
      ]
     },
     "execution_count": 3,
     "metadata": {},
     "output_type": "execute_result"
    }
   ],
   "source": [
    "import torch\n",
    "my_tensor = torch.tensor([[0.0, 1.0], [0.1, 0.2]])\n",
    "my_tensor"
   ]
  },
  {
   "cell_type": "code",
   "execution_count": 4,
   "id": "0fc48691",
   "metadata": {},
   "outputs": [
    {
     "data": {
      "text/plain": [
       "tensor([[0., 1.],\n",
       "        [0., 0.]])"
      ]
     },
     "execution_count": 4,
     "metadata": {},
     "output_type": "execute_result"
    }
   ],
   "source": [
    "new_tensor = my_tensor.int().float()\n",
    "new_tensor"
   ]
  },
  {
   "cell_type": "code",
   "execution_count": 10,
   "id": "489a688b",
   "metadata": {},
   "outputs": [
    {
     "name": "stdout",
     "output_type": "stream",
     "text": [
      "tensor([[1.0000, 2.0000],\n",
      "        [0.1000, 0.2000]], dtype=torch.float64)\n",
      "tensor([[1.0000, 2.0000],\n",
      "        [0.1000, 0.2000]])\n",
      "[[1.  2. ]\n",
      " [0.1 0.2]]\n"
     ]
    }
   ],
   "source": [
    "import numpy as np\n",
    "np_tensor = np.array([[1.0, 2.0], [0.1, 0.2]])\n",
    "tensor_from_np = torch.tensor(np_tensor)\n",
    "print(tensor_from_np)\n",
    "tensor_from_np = torch.tensor(np_tensor).float()\n",
    "print(tensor_from_np)\n",
    "to_numpy = tensor_from_np.numpy()\n",
    "print(to_numpy)"
   ]
  },
  {
   "cell_type": "code",
   "execution_count": 11,
   "id": "6e567c73",
   "metadata": {},
   "outputs": [
    {
     "data": {
      "text/plain": [
       "tensor([[0.0000, 1.0000],\n",
       "        [0.1000, 0.2000]], device='cuda:0')"
      ]
     },
     "execution_count": 11,
     "metadata": {},
     "output_type": "execute_result"
    }
   ],
   "source": [
    "device = torch.device('cuda' if torch.cuda.is_available() else 'cpu')\n",
    "my_tensor.to(device=device) # https://pytorch.org/docs/stable/cuda.html"
   ]
  },
  {
   "cell_type": "code",
   "execution_count": 12,
   "id": "ddd05139",
   "metadata": {},
   "outputs": [
    {
     "data": {
      "text/plain": [
       "0"
      ]
     },
     "execution_count": 12,
     "metadata": {},
     "output_type": "execute_result"
    }
   ],
   "source": [
    "to_numpy = my_tensor.numpy()\n",
    "single_number = torch.tensor([0])\n",
    "single_number.item()"
   ]
  },
  {
   "cell_type": "code",
   "execution_count": 13,
   "id": "ca741150",
   "metadata": {},
   "outputs": [
    {
     "data": {
      "text/plain": [
       "tensor([[0.2000, 2.0000],\n",
       "        [2.0000, 4.0000]])"
      ]
     },
     "execution_count": 13,
     "metadata": {},
     "output_type": "execute_result"
    }
   ],
   "source": [
    "tensor_with_gradient = torch.tensor([[0.1, 1.0], [1.0,2.0]], requires_grad=True)\n",
    "result = tensor_with_gradient.pow(2).sum()\n",
    "result.backward()\n",
    "tensor_with_gradient.grad"
   ]
  },
  {
   "cell_type": "code",
   "execution_count": 14,
   "id": "17b63385",
   "metadata": {},
   "outputs": [
    {
     "data": {
      "text/plain": [
       "tensor([[0.1000, 1.0000],\n",
       "        [1.0000, 2.0000]])"
      ]
     },
     "execution_count": 14,
     "metadata": {},
     "output_type": "execute_result"
    }
   ],
   "source": [
    "tensor_with_gradient.detach_()\n",
    "# tensor_with_gradient = tensor_with_gradient.detach()"
   ]
  },
  {
   "cell_type": "markdown",
   "id": "84964650",
   "metadata": {},
   "source": [
    "## Basic Operations"
   ]
  },
  {
   "cell_type": "code",
   "execution_count": 21,
   "id": "a55b22b1",
   "metadata": {},
   "outputs": [
    {
     "data": {
      "text/plain": [
       "tensor([[1.0000, 2.0000],\n",
       "        [0.2000, 0.1000]])"
      ]
     },
     "execution_count": 21,
     "metadata": {},
     "output_type": "execute_result"
    }
   ],
   "source": [
    "x = torch.tensor([[1, 2], [0.2, 0.1]])\n",
    "x"
   ]
  },
  {
   "cell_type": "code",
   "execution_count": 16,
   "id": "6b08ff53",
   "metadata": {},
   "outputs": [
    {
     "data": {
      "text/plain": [
       "tensor([[2.0000, 3.0000],\n",
       "        [1.2000, 1.1000]])"
      ]
     },
     "execution_count": 16,
     "metadata": {},
     "output_type": "execute_result"
    }
   ],
   "source": [
    "x + 1"
   ]
  },
  {
   "cell_type": "code",
   "execution_count": 17,
   "id": "48097d76",
   "metadata": {},
   "outputs": [
    {
     "data": {
      "text/plain": [
       "tensor([[2.0000, 4.0000],\n",
       "        [0.4000, 0.2000]])"
      ]
     },
     "execution_count": 17,
     "metadata": {},
     "output_type": "execute_result"
    }
   ],
   "source": [
    "x * 2"
   ]
  },
  {
   "cell_type": "code",
   "execution_count": 18,
   "id": "4e467c3b",
   "metadata": {},
   "outputs": [
    {
     "data": {
      "text/plain": [
       "tensor([[4.0000, 3.0000],\n",
       "        [0.6000, 1.1000]])"
      ]
     },
     "execution_count": 18,
     "metadata": {},
     "output_type": "execute_result"
    }
   ],
   "source": [
    "y = torch.tensor([[3,1], [0.4, 1]])\n",
    "x + y"
   ]
  },
  {
   "cell_type": "code",
   "execution_count": 23,
   "id": "713ea946",
   "metadata": {},
   "outputs": [
    {
     "name": "stdout",
     "output_type": "stream",
     "text": [
      "tensor([[1.0000, 2.0000],\n",
      "        [0.2000, 0.1000]])\n",
      "tensor([0.2000, 0.1000])\n",
      "tensor([2.0000, 0.1000])\n",
      "tensor([[1.0000, 2.0000],\n",
      "        [0.2000, 0.1000]])\n",
      "torch.Size([2, 2])\n",
      "tensor([[[1.0000, 2.0000],\n",
      "         [0.2000, 0.1000]]])\n",
      "torch.Size([1, 2, 2])\n",
      "tensor([[1.0000, 2.0000],\n",
      "        [0.2000, 0.1000]])\n",
      "torch.Size([2, 2])\n"
     ]
    }
   ],
   "source": [
    "print(x[:,:])\n",
    "print(x[1,:])\n",
    "print(x[:,1])\n",
    "print(x)\n",
    "print(x.shape)\n",
    "xu = x.unsqueeze(0)\n",
    "print(xu)\n",
    "print(xu.shape)\n",
    "xs = x.squeeze() # delete the dimension sizes of one\n",
    "print(xs)\n",
    "print(xs.shape)"
   ]
  },
  {
   "cell_type": "code",
   "execution_count": 25,
   "id": "e6630854",
   "metadata": {},
   "outputs": [],
   "source": [
    "# BROADCASTING SEMANTICS\n",
    ">>> x=torch.empty(5,7,3)\n",
    ">>> y=torch.empty(5,7,3)\n",
    "# same shapes are always broadcastable (i.e. the above rules always hold)\n",
    "\n",
    ">>> x=torch.empty((0,))\n",
    ">>> y=torch.empty(2,2)\n",
    "# x and y are not broadcastable, because x does not have at least 1 dimension\n",
    "\n",
    "# can line up trailing dimensions\n",
    ">>> x=torch.empty(5,3,4,1)\n",
    ">>> y=torch.empty(  3,1,1)\n",
    "# x and y are broadcastable.\n",
    "# 1st trailing dimension: both have size 1\n",
    "# 2nd trailing dimension: y has size 1\n",
    "# 3rd trailing dimension: x size == y size\n",
    "# 4th trailing dimension: y dimension doesn't exist\n",
    "\n",
    "# but:\n",
    ">>> x=torch.empty(5,2,4,1)\n",
    ">>> y=torch.empty(  3,1,1)\n",
    "# x and y are not broadcastable, because in the 3rd trailing dimension 2 != 3"
   ]
  },
  {
   "cell_type": "code",
   "execution_count": 28,
   "id": "e37f6b40",
   "metadata": {},
   "outputs": [
    {
     "name": "stdout",
     "output_type": "stream",
     "text": [
      "tensor([-2.0665, -0.9771, -0.0890, -0.8344,  0.2659])\n",
      "tensor([-2.6436,  0.5505,  0.5054, -0.3978,  0.5616])\n"
     ]
    },
    {
     "data": {
      "text/plain": [
       "tensor([[ 5.4631, -1.1376, -1.0445,  0.8220, -1.1605],\n",
       "        [ 2.5832, -0.5379, -0.4939,  0.3887, -0.5488],\n",
       "        [ 0.2353, -0.0490, -0.0450,  0.0354, -0.0500],\n",
       "        [ 2.2058, -0.4593, -0.4217,  0.3319, -0.4686],\n",
       "        [-0.7028,  0.1464,  0.1344, -0.1057,  0.1493]])"
      ]
     },
     "execution_count": 28,
     "metadata": {},
     "output_type": "execute_result"
    }
   ],
   "source": [
    "# EINSUM\n",
    "x = torch.randn(5)\n",
    "y = torch.randn(5)\n",
    "print(x)\n",
    "print(y)\n",
    "torch.einsum('i,j->ij', x, y)"
   ]
  },
  {
   "cell_type": "code",
   "execution_count": 27,
   "id": "d3038e17",
   "metadata": {},
   "outputs": [
    {
     "data": {
      "text/plain": [
       "tensor([[1.5859, 1.7501, 2.1571],\n",
       "        [2.0135, 2.5645, 2.4143]])"
      ]
     },
     "execution_count": 27,
     "metadata": {},
     "output_type": "execute_result"
    }
   ],
   "source": [
    "A = torch.rand(3,5,4)\n",
    "l = torch.rand(2,5)\n",
    "r = torch.rand(2,4)\n",
    "torch.einsum('bn,anm,bm->ba', l, A, r)"
   ]
  }
 ],
 "metadata": {
  "kernelspec": {
   "display_name": "Python 3",
   "language": "python",
   "name": "python3"
  },
  "language_info": {
   "codemirror_mode": {
    "name": "ipython",
    "version": 3
   },
   "file_extension": ".py",
   "mimetype": "text/x-python",
   "name": "python",
   "nbconvert_exporter": "python",
   "pygments_lexer": "ipython3",
   "version": "3.7.10"
  }
 },
 "nbformat": 4,
 "nbformat_minor": 5
}
