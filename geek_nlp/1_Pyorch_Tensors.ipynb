{
 "cells": [
  {
   "cell_type": "markdown",
   "id": "ead6de9e",
   "metadata": {},
   "source": [
    "# OverView"
   ]
  },
  {
   "cell_type": "markdown",
   "id": "d2aa5c59",
   "metadata": {},
   "source": [
    "In this series of tutorials, we will introduce some basics of Pytorch. Pay attention that the API's of any library will be subject to changes, therefore it is very important the offcial documentation before proceeding.\n",
    "\n",
    "we will cover the following materials in the tutorial.\n",
    "\n",
    "1. Create tensors\n",
    "2. some common mainpulations(including boardcast and einsum)"
   ]
  },
  {
   "cell_type": "code",
   "execution_count": 9,
   "id": "16940822",
   "metadata": {},
   "outputs": [
    {
     "data": {
      "text/plain": [
       "tensor([[0.0000, 1.0000],\n",
       "        [0.1000, 0.2000]])"
      ]
     },
     "execution_count": 9,
     "metadata": {},
     "output_type": "execute_result"
    }
   ],
   "source": [
    "import torch\n",
    "my_tensor = torch.tensor([[0.0, 1.0], [0.1, 0.2]])\n",
    "my_tensor"
   ]
  },
  {
   "cell_type": "code",
   "execution_count": 10,
   "id": "0fc48691",
   "metadata": {},
   "outputs": [
    {
     "data": {
      "text/plain": [
       "tensor([[0., 1.],\n",
       "        [0., 0.]])"
      ]
     },
     "execution_count": 10,
     "metadata": {},
     "output_type": "execute_result"
    }
   ],
   "source": [
    "new_tensor = my_tensor.int().float()\n",
    "new_tensor"
   ]
  },
  {
   "cell_type": "code",
   "execution_count": null,
   "id": "489a688b",
   "metadata": {},
   "outputs": [],
   "source": []
  }
 ],
 "metadata": {
  "kernelspec": {
   "display_name": "Python 3",
   "language": "python",
   "name": "python3"
  },
  "language_info": {
   "codemirror_mode": {
    "name": "ipython",
    "version": 3
   },
   "file_extension": ".py",
   "mimetype": "text/x-python",
   "name": "python",
   "nbconvert_exporter": "python",
   "pygments_lexer": "ipython3",
   "version": "3.7.10"
  }
 },
 "nbformat": 4,
 "nbformat_minor": 5
}
