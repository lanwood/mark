{
 "cells": [
  {
   "cell_type": "markdown",
   "id": "86d33599",
   "metadata": {},
   "source": [
    "基于requests模块的get请求\n",
    "\n",
    "需求：爬取搜狗指定词条对应的搜索结果页面（简易网页采集器）\n",
    "\n",
    "反爬机制\n",
    "\n",
    "User-Agent：请求载体的身份标识，使用浏览器发起的请求，请求载体的身份标识为浏览器，使用爬虫程序发起的请求，请求载体为爬虫程序。\n",
    "\n",
    "UA检测：相关的门户网站通过检测请求该网站的载体身份来辨别该请求是否为爬虫程序，如果是，则网站数据请求失败。因为正常用户对网站发起的请求的载体一定是基于某一款浏览器，如果网站检测到某一请求载体身份标识不是基于浏览器的，则让其请求失败。因此，UA检测反爬机制，robots协议也是。\n",
    "\n",
    "UA伪装：通过修改/伪装爬虫请求的User-Agent来破解UA检测这种反爬机制，具体实现见下属代码："
   ]
  },
  {
   "cell_type": "code",
   "execution_count": null,
   "id": "358bdeac",
   "metadata": {},
   "outputs": [],
   "source": [
    "import requests\n",
    "#指定搜索关键字\n",
    "word = input('enter a word you want to search:')\n",
    "#自定义请求头信息:UA伪装,将包含了User-Agent的字典作用到请求方法的headers参数中即可\n",
    "headers={\n",
    "    'User-Agent': 'Mozilla/5.0 (Macintosh; Intel Mac OS X 10_12_0) AppleWebKit/537.36 (KHTML, like Gecko) Chrome/69.0.3497.100 Safari/537.36',\n",
    "    }\n",
    "#指定url，原始url可能是https://www.sogou.com/web?query=撩妹，发现该url携带了参数\n",
    "url = 'https://www.sogou.com/web'\n",
    "#封装get请求参数：如果请求携带了参数，则可以将参数封装到字典中结合这requests请求方法中的data/params参数进行url参数的处理\n",
    "param = {\n",
    "    'query':word,\n",
    "}\n",
    "#发起请求\n",
    "response = requests.get(url=url,params=param,headers=headers)\n",
    "#获取响应数据\n",
    "page_text = response.text\n",
    "#持久化存储\n",
    "fileName = word+'.html'\n",
    "with open(fileName,'w',encoding='utf-8') as fp:\n",
    "    fp.write(page_text)"
   ]
  },
  {
   "cell_type": "code",
   "execution_count": 1,
   "id": "dabd0a52",
   "metadata": {},
   "outputs": [
    {
     "name": "stdout",
     "output_type": "stream",
     "text": [
      "enter a English word:雪碧\n",
      "{'errno': 0, 'data': [{'k': '雪碧', 'v': '名. Sprite'}]}\n"
     ]
    }
   ],
   "source": [
    "# 百度翻译\n",
    "import requests\n",
    "import json\n",
    "word = input('enter a English word:')\n",
    "#自定义请求头信息:UA伪装,将包含了User-Agent的字典作用到请求方法的headers参数中即可\n",
    "headers={\n",
    "    'User-Agent': 'Mozilla/5.0 (Macintosh; Intel Mac OS X 10_12_0) AppleWebKit/537.36 (KHTML, like Gecko) Chrome/69.0.3497.100 Safari/537.36',\n",
    "    }\n",
    "#指定url，原始url可能是https://www.sogou.com/web?query=撩妹，发现该url携带了参数\n",
    "url = 'https://fanyi.baidu.com/sug'\n",
    "#封装post请求参数：如果请求携带了参数，则可以将参数封装到字典中结合这requests请求方法中的data/params参数进行url参数的处理\n",
    "data = {\n",
    "    'kw':word,\n",
    "}\n",
    "#发起请求\n",
    "response = requests.post(url=url,data=data,headers=headers)\n",
    "#获取响应数据:如果响应回来的数据为json，则可以直接调用响应对象的json方法获取json对象数据\n",
    "json_data = response.json()\n",
    "print(json_data)"
   ]
  },
  {
   "cell_type": "code",
   "execution_count": 2,
   "id": "1a740e00",
   "metadata": {},
   "outputs": [
    {
     "name": "stdout",
     "output_type": "stream",
     "text": [
      "[{'rating': ['9.5', '50'], 'rank': 1, 'cover_url': 'https://img1.doubanio.com/view/photo/s_ratio_poster/public/p2206737207.jpg', 'is_playable': True, 'id': '1303408', 'types': ['喜剧', '动作', '爱情'], 'regions': ['美国'], 'title': '福尔摩斯二世', 'url': 'https://movie.douban.com/subject/1303408/', 'release_date': '1924-04-21', 'actor_count': 11, 'vote_count': 19160, 'score': '9.5', 'actors': ['巴斯特·基顿', '凯瑟琳·麦奎尔', '乔·基顿', 'Ward Crane', 'Jane Connelly', 'George Davis', 'Doris Deane', 'Betsy Ann Hisle', '丘比·摩根', 'John Patrick', 'Ford West'], 'is_watched': False}, {'rating': ['9.4', '50'], 'rank': 2, 'cover_url': 'https://img2.doubanio.com/view/photo/s_ratio_poster/public/p511118051.jpg', 'is_playable': False, 'id': '1295644', 'types': ['剧情', '动作', '犯罪'], 'regions': ['法国', '美国'], 'title': '这个杀手不太冷', 'url': 'https://movie.douban.com/subject/1295644/', 'release_date': '1994-09-14', 'actor_count': 21, 'vote_count': 1970763, 'score': '9.4', 'actors': ['让·雷诺', '娜塔莉·波特曼', '加里·奥德曼', '丹尼·爱罗', '彼得·阿佩尔', '迈克尔·巴达鲁科', '艾伦·格里尼', '伊丽莎白·瑞根', '卡尔·马图斯维奇', '弗兰克·赛格', '麦温', '乔治·马丁', '罗伯特·拉萨多', '亚当·布斯奇', '马里奥·托迪斯科', '萨米·纳塞利', '让·雨果·安格拉德', '埃莱娜·卡多纳', '沈晓谦', '大塚明夫', 'Keith A. Glascoe'], 'is_watched': False}, {'rating': ['9.4', '50'], 'rank': 3, 'cover_url': 'https://img2.doubanio.com/view/photo/s_ratio_poster/public/p2151748293.jpg', 'is_playable': True, 'id': '1304920', 'types': ['剧情', '动作', '悬疑'], 'regions': ['日本'], 'title': '切腹', 'url': 'https://movie.douban.com/subject/1304920/', 'release_date': '1962-09-16', 'actor_count': 16, 'vote_count': 31663, 'score': '9.4', 'actors': ['仲代达矢', '石浜朗', '岩下志麻', '丹波哲郎', '三岛雅夫', '中谷一郎', '佐藤庆', '稻叶义男', '井川比佐志', '武内亨', '青木义朗', '松村达雄', '小林昭二', '富田仲次郎', '结城一朗', '三国连太郎'], 'is_watched': False}, {'rating': ['9.3', '50'], 'rank': 4, 'cover_url': 'https://img2.doubanio.com/view/photo/s_ratio_poster/public/p2642829472.jpg', 'is_playable': True, 'id': '1291552', 'types': ['剧情', '动作', '奇幻', '冒险'], 'regions': ['美国', '新西兰'], 'title': '指环王3：王者无敌', 'url': 'https://movie.douban.com/subject/1291552/', 'release_date': '2004-03-12', 'actor_count': 66, 'vote_count': 662877, 'score': '9.3', 'actors': ['伊利亚·伍德', '西恩·奥斯汀', '维果·莫腾森', '奥兰多·布鲁姆', '伊恩·麦克莱恩', '肖恩·宾', '多米尼克·莫纳汉', '丽芙·泰勒', '约翰·贝西', '凯特·布兰切特', '比利·博伊德', '萨德文·布罗菲', '阿利斯泰尔·布朗宁', '马尔顿·索克斯', '伯纳德·希尔', '伊安·霍姆', '布鲁斯·霍普金斯', 'Ian Hughes', '劳伦斯·马克奥雷', '诺埃尔·阿普利比', '布雷特·麦肯齐', 'Alexandra Astin', 'Sarah McLeod', 'Maisy McLeod-Riera', '约翰·诺贝尔', 'Paul Norell', '米兰达·奥图', '布鲁斯·菲利普斯', '沙恩·朗吉', '约翰·瑞斯-戴维斯', 'Todd Rippon', '安迪·瑟金斯', 'Harry Sinclair', '乔尔·托贝克', '卡尔·厄本', '史蒂芬·乌瑞', '雨果·维文', '大卫·文翰', '阿兰·霍华德', '萨拉·贝克', 'Robert Pollock', '佩特·史密斯', '杰德·布罗菲', '菲利普·格里夫', '布拉德·道里夫', '克里斯托弗·李', '布鲁斯·斯宾斯', '吉诺·阿赛维多', 'Jarl Benzon', 'Jørn Benzon', 'Robert Catto', 'Michael Elsworth', '彼得·杰克逊', 'Sandro Kopp', '安德鲁·莱斯尼', '约瑟夫·米卡-亨特', '亨利·莫腾森', '克雷格·帕克', '克里斯蒂安·瑞沃斯', '迈克尔·斯曼内科 ', '霍华德·肖', '约翰·斯蒂芬森', '理查德·泰勒', '金永钢', '姜广涛', '张磊'], 'is_watched': False}, {'rating': ['9.3', '50'], 'rank': 5, 'cover_url': 'https://img9.doubanio.com/view/photo/s_ratio_poster/public/p2215886505.jpg', 'is_playable': True, 'id': '1295399', 'types': ['动作', '冒险', '剧情'], 'regions': ['日本'], 'title': '七武士', 'url': 'https://movie.douban.com/subject/1295399/', 'release_date': '1954-04-26', 'actor_count': 48, 'vote_count': 159162, 'score': '9.3', 'actors': ['三船敏郎', '志村乔', '津岛惠子', '岛崎雪子', '藤原釜足', '加东大介', '木村功', '千秋实', '宫口精二', '小杉义男', '左卜全', '稻叶义男', '土屋嘉男', '高堂国典', '东野英治郎', '上田吉二郎', '多多良纯', '渡边笃', '小川虎之助', '山形勋', '上山草人', '清水元', '高木新平', '大友伸', '高原骏雄', '稻垣三郎', '堺左千夫', '千石规子', '本间文子', '大久保正信', '伊藤实', '大村千吉', '广濑正一', '宇野晃司', '谷晃', '中岛春雄', '清水美恵', '熊谷卓三', '夏木顺平', '岩本弘司', '堤康久', '马野都留子', '森今日子', '加藤武', '仲代达矢', '宇津井健', '山本廉', '东静子'], 'is_watched': False}, {'rating': ['9.2', '45'], 'rank': 6, 'cover_url': 'https://img2.doubanio.com/view/photo/s_ratio_poster/public/p462657443.jpg', 'is_playable': True, 'id': '1851857', 'types': ['剧情', '动作', '科幻', '犯罪', '惊悚'], 'regions': ['美国', '英国'], 'title': '蝙蝠侠：黑暗骑士', 'url': 'https://movie.douban.com/subject/1851857/', 'release_date': '2008-07-14', 'actor_count': 39, 'vote_count': 870270, 'score': '9.2', 'actors': ['克里斯蒂安·贝尔', '希斯·莱杰', '艾伦·艾克哈特', '迈克尔·凯恩', '玛吉·吉伦哈尔', '加里·奥德曼', '摩根·弗里曼', '莫尼克·加布里埃拉·库尔内', '罗恩·迪恩', '基里安·墨菲', '黄经汉', '内斯特·卡博内尔', '埃里克·罗伯茨', '里特奇·科斯特', '安东尼·迈克尔·豪尔', '基斯·斯扎拉巴基克', '柯林·麦克法兰', '约书亚·哈尔托', '美琳达·麦格劳', '内森·甘宝', '迈克尔·维约', '迈克尔·斯托扬诺夫', '威廉·斯米利', '丹尼·高德林', '迈克尔·加·怀特', '马修·奥尼尔', '威廉·菲克纳', '欧鲁米基·欧拉乌米', '格雷格·比姆', '爱利克·赫尔曼', '毕崔斯·罗森', '文森佐·尼克力', '陈冠希', '罗南·萨莫尔斯', '玛丽扎·卡布蕾拉', '大卫·达斯马齐连', '理查德·迪兰', '利萨·麦克阿里斯特', '亚当·卡莱佩里斯'], 'is_watched': False}, {'rating': ['9.2', '45'], 'rank': 7, 'cover_url': 'https://img1.doubanio.com/view/photo/s_ratio_poster/public/p2623518158.jpg', 'is_playable': False, 'id': '35231832', 'types': ['剧情', '动作', '奇幻'], 'regions': ['日本'], 'title': '鬼灭之刃 那田蜘蛛山篇', 'url': 'https://movie.douban.com/subject/35231832/', 'release_date': '2020-10-17', 'actor_count': 4, 'vote_count': 5343, 'score': '9.2', 'actors': ['花江夏树', '鬼头明里', '下野纮', '松冈祯丞'], 'is_watched': False}, {'rating': ['9.2', '45'], 'rank': 8, 'cover_url': 'https://img2.doubanio.com/view/photo/s_ratio_poster/public/p2547616522.jpg', 'is_playable': False, 'id': '5041031', 'types': ['剧情', '动作', '科幻'], 'regions': ['日本'], 'title': '赛文奥特曼 我是地球人', 'url': 'https://movie.douban.com/subject/5041031/', 'release_date': '1999-12-31', 'actor_count': 6, 'vote_count': 1968, 'score': '9.2', 'actors': ['山崎胜之', '佐原健二', '鹈川薰', '足立理绘子', '森次晃嗣', '南条弘二'], 'is_watched': False}, {'rating': ['9.2', '45'], 'rank': 9, 'cover_url': 'https://img1.doubanio.com/view/photo/s_ratio_poster/public/p2266845549.jpg', 'is_playable': True, 'id': '3804492', 'types': ['动作', '古装', '音乐', '歌舞'], 'regions': ['中国大陆'], 'title': '丝路花雨', 'url': 'https://movie.douban.com/subject/3804492/', 'release_date': '1982', 'actor_count': 2, 'vote_count': 1572, 'score': '9.2', 'actors': ['贺燕云', '张宏'], 'is_watched': False}, {'rating': ['9.1', '45'], 'rank': 10, 'cover_url': 'https://img3.doubanio.com/view/photo/s_ratio_poster/public/p2640234840.jpg', 'is_playable': True, 'id': '1291571', 'types': ['剧情', '动作', '奇幻', '冒险'], 'regions': ['新西兰', '美国'], 'title': '指环王1：护戒使者', 'url': 'https://movie.douban.com/subject/1291571/', 'release_date': '2002-04-04', 'actor_count': 53, 'vote_count': 702187, 'score': '9.1', 'actors': ['伊利亚·伍德', '西恩·奥斯汀', '伊恩·麦克莱恩', '维果·莫腾森', '奥兰多·布鲁姆', '多米尼克·莫纳汉', '比利·博伊德', '克里斯托弗·李', '马尔顿·索克斯', '梅根·爱德华兹', '伊安·霍姆', '凯特·布兰切特', '阿兰·霍华德', '马克·弗格森', '肖恩·宾', '萨拉·贝克', '劳伦斯·马克奥雷', '安迪·瑟金斯', '彼得·麦肯齐', '伊恩·穆内', '克雷格·帕克', '卡梅隆·罗德', '约翰·瑞斯-戴维斯', '丽芙·泰勒', '大卫·韦瑟莱', '雨果·维文', '菲利普·格里夫', '威廉·约翰逊', '伊丽莎白·穆迪', '布莱恩·瑟金特', '杰德·布罗菲', '诺曼·凯茨', '兰德尔·威廉·库克', '萨比恩·克洛森', '西奥沙福瓦', '本·弗兰舍姆', '彼得·杰克逊', '艾伦·李', '诺埃尔·阿普利比', 'Michael Elsworth', 'Sarah McLeod', '马丁·桑德森', 'Harry Sinclair', '吉诺·阿赛维多', 'Jarl Benzon', 'Jørn Benzon', 'Ben Britton', 'Jonathan Harding', 'Taea Hartwell', 'Sam Kelly', '姜广涛', '张磊', '布雷特·麦肯齐'], 'is_watched': False}, {'rating': ['9.1', '45'], 'rank': 11, 'cover_url': 'https://img1.doubanio.com/view/photo/s_ratio_poster/public/p451926968.jpg', 'is_playable': True, 'id': '1291843', 'types': ['动作', '科幻'], 'regions': ['美国'], 'title': '黑客帝国', 'url': 'https://movie.douban.com/subject/1291843/', 'release_date': '1999-03-31', 'actor_count': 24, 'vote_count': 668265, 'score': '9.1', 'actors': ['基努·里维斯', '劳伦斯·菲什伯恩', '凯瑞-安·莫斯', '雨果·维文', '格洛丽亚·福斯特', '乔·潘托里亚诺', '马库斯·钟', '朱利安·阿拉汗加', '马特·多兰', '贝琳达·麦克洛里', '安东尼雷派克', '罗伯特·泰勒', '阿达·尼科德莫', '罗温·维特', '塔玛拉·布朗', '纳塔莉·特珍', '比尔·扬', '克里斯·斯科特', '纳许·埃哲顿', '金永钢', '童自荣', '沈晓谦', '户田惠子', '张磊'], 'is_watched': False}, {'rating': ['9.1', '45'], 'rank': 12, 'cover_url': 'https://img9.doubanio.com/view/photo/s_ratio_poster/public/p2640236255.jpg', 'is_playable': True, 'id': '1291572', 'types': ['剧情', '动作', '奇幻', '冒险'], 'regions': ['美国', '新西兰'], 'title': '指环王2：双塔奇兵', 'url': 'https://movie.douban.com/subject/1291572/', 'release_date': '2003-04-25', 'actor_count': 57, 'vote_count': 617318, 'score': '9.1', 'actors': ['伊利亚·伍德', '西恩·奥斯汀', '多米尼克·莫纳汉', '奥兰多·布鲁姆', '维果·莫腾森', '伊恩·麦克莱恩', '凯特·布兰切特', '比利·博伊德', '杰德·布罗菲', '丽芙·泰勒', '安迪·瑟金斯', '米兰达·奥图', '雨果·维文', '布拉德·道里夫', '卡卢姆·吉廷斯', '伯纳德·希尔', '布鲁斯·霍普金斯', '克里斯托弗·李', '纳撒尼尔·利斯', '罗宾·马尔科姆', '约翰·贝西', '萨拉·贝克', '克雷格·帕克', '布鲁斯·菲利普斯', 'Robert Pollock', '约翰·瑞斯-戴维斯', '奥利维亚·田內', '卡尔·厄本', '史蒂芬·乌瑞', '大卫·文翰', '菲利普·格里夫', '肖恩·宾', '约翰·诺贝尔', 'Jarl Benzon', 'Jørn Benzon', 'Ben Britton', '阿利斯泰尔·布朗宁', 'Sean Button', 'Robert Catto', '罗德尼·库克', '卡尔洛斯·德林克沃特', '西奥沙福瓦', '本·弗兰舍姆', 'Jonathan Harding', 'Lucas Hayward', '丹·汉纳', '保罗·霍姆斯', '杰森霍德', '彼得·杰克逊', 'Sam Kelly', 'Sandro Kopp', '姜广涛', '张磊', '陆建艺', '金永钢', '劳伦斯·马克奥雷', '布鲁克·奥佩斯'], 'is_watched': False}, {'rating': ['9.1', '45'], 'rank': 13, 'cover_url': 'https://img2.doubanio.com/view/photo/s_ratio_poster/public/p2248676081.jpg', 'is_playable': True, 'id': '1292778', 'types': ['剧情', '喜剧', '动作', '战争', '冒险'], 'regions': ['美国'], 'title': '将军号', 'url': 'https://movie.douban.com/subject/1292778/', 'release_date': '1926-12-25', 'actor_count': 12, 'vote_count': 20928, 'score': '9.1', 'actors': ['巴斯特·基顿', '玛丽昂·马克', '格伦·卡文德', '吉姆·法利', '弗雷德里克·弗鲁姆', '查尔斯·亨利·史密斯', '弗兰克·巴恩斯', '乔·基顿', '麦克·多林', '汤姆·纳恩', '波利斯·卡洛夫', '安东尼·哈维'], 'is_watched': False}, {'rating': ['9.0', '45'], 'rank': 14, 'cover_url': 'https://img1.doubanio.com/view/photo/s_ratio_poster/public/p1910926158.jpg', 'is_playable': False, 'id': '1292000', 'types': ['剧情', '动作', '悬疑', '惊悚'], 'regions': ['美国', '德国', '意大利'], 'title': '搏击俱乐部', 'url': 'https://movie.douban.com/subject/1292000/', 'release_date': '1999-09-10', 'actor_count': 30, 'vote_count': 709643, 'score': '9.0', 'actors': ['爱德华·诺顿', '布拉德·皮特', '海伦娜·伯翰·卡特', '扎克·格雷尼尔', '米特·洛夫', '杰瑞德·莱托', '艾恩·贝利', '里奇蒙德·阿奎特', '乔治·马奎尔', 'Ezra Buzzington', 'Carl Ciarfalio', '斯图尔特·布拉姆博格', '马特·温斯顿', '劳伦·桑切斯', 'Tyrone R. Livingston', '保罗·卡拉夫特斯', 'Scotch Ellis Loring', 'Andi Carnick', '迈克尔·肖姆斯·维尔斯', 'Markus Redmond', '大卫·安德鲁斯', '鲍勃·斯蒂芬森', '欧根妮·邦杜兰特', '凯文·斯科特·麦克', 'Bennie Moore', '埃文·米兰德', '乔伊·比索奈特', 'Christina Cabot', '大卫·李·史密斯', '霍特·麦克卡兰尼'], 'is_watched': False}, {'rating': ['9.0', '45'], 'rank': 15, 'cover_url': 'https://img9.doubanio.com/view/photo/s_ratio_poster/public/p2446408045.jpg', 'is_playable': True, 'id': '1291936', 'types': ['动作', '科幻', '动画'], 'regions': ['日本'], 'title': '攻壳机动队', 'url': 'https://movie.douban.com/subject/1291936/', 'release_date': '1995-11-18', 'actor_count': 16, 'vote_count': 112854, 'score': '9.0', 'actors': ['田中敦子', '大塚明夫', '山寺宏一', '大木民夫', '家弓家正', '玄田哲章', '山内雅人', '小川真司', '宫本充', '小高三良', '后藤敦', '山路和弘', '佐藤政道', 'Lia Sargent', '布莱恩·科兰斯顿', '松山鹰志'], 'is_watched': False}, {'rating': ['9.0', '45'], 'rank': 16, 'cover_url': 'https://img9.doubanio.com/view/photo/s_ratio_poster/public/p2163659004.jpg', 'is_playable': True, 'id': '1292515', 'types': ['剧情', '动作', '惊悚'], 'regions': ['日本'], 'title': '用心棒', 'url': 'https://movie.douban.com/subject/1292515/', 'release_date': '1961-04-25', 'actor_count': 36, 'vote_count': 35954, 'score': '9.0', 'actors': ['三船敏郎', '仲代达矢', '司叶子', '山田五十铃', '加东大介', '河津清三郎', '志村乔', '太刀川宽', '夏木阳介', '东野英治郎', '藤原釜足', '泽村伊纪雄', '渡边笃', '藤田进', '山茶花究', '西村晃', '加藤武', '中谷一郎', '堺左千夫', '谷晃', '土屋嘉男', '清水元', '佐田丰', '大友伸', '广濑正一', '天本英世', '大木正司', '大村千吉', '本间文子', '桐野洋雄', '大友纯', '高木新平', '小川安三', '熊谷卓三', '杰瑞·藤尾', '中岛春雄'], 'is_watched': False}, {'rating': ['8.9', '45'], 'rank': 17, 'cover_url': 'https://img1.doubanio.com/view/photo/s_ratio_poster/public/p1512562287.jpg', 'is_playable': True, 'id': '3742360', 'types': ['剧情', '喜剧', '动作', '西部'], 'regions': ['中国大陆', '中国香港'], 'title': '让子弹飞', 'url': 'https://movie.douban.com/subject/3742360/', 'release_date': '2010-12-16', 'actor_count': 32, 'vote_count': 1358471, 'score': '8.9', 'actors': ['姜文', '葛优', '周润发', '刘嘉玲', '陈坤', '张默', '姜武', '周韵', '廖凡', '姚橹', '邵兵', '苗圃', '冯小刚', '胡军', '马珂', '白冰', '杜奕衡', '李静', '胡明', '危笑', '杨奇雨', '赵铭', '郭俊立', '绀野千春', '马元', '宣晓鸣', '姜洪齐', '岳红', '吴昔果', '沙瑀', '陈磊', '文祥'], 'is_watched': False}, {'rating': ['8.9', '45'], 'rank': 18, 'cover_url': 'https://img2.doubanio.com/view/photo/s_ratio_poster/public/p1465235231.jpg', 'is_playable': False, 'id': '1309046', 'types': ['剧情', '动作', '科幻', '惊悚'], 'regions': ['美国', '英国', '德国'], 'title': 'V字仇杀队', 'url': 'https://movie.douban.com/subject/1309046/', 'release_date': '2005-12-11', 'actor_count': 41, 'vote_count': 773639, 'score': '8.9', 'actors': ['娜塔莉·波特曼', '雨果·维文', '斯蒂芬·瑞', '斯蒂芬·弗雷', '约翰·赫特', '蒂姆·皮戈特-史密斯', '鲁珀特·格雷夫斯', '罗杰·阿拉姆', '本·迈尔斯', '西妮德·库萨克', '娜塔莎·怀特曼', '约翰·斯坦丁', '埃迪·马森', '克里夫·阿什伯恩', 'Emma Field-Rayner', '伊安·布尔费尔德', '马克·菲尼克斯', 'Alister Mazzotti', '比莉·库克', '盖伊·亨利', '科斯马·肖', 'Megan Gay', 'Roderic Culver', 'Tara Hacking', '安迪·莱什利兹', '查德·斯塔赫斯基', '布拉德利·斯蒂夫·福特', '马德琳·拉基克-普拉特', '塞丽娜·贾尔斯', '卡斯腾·海斯', '伊莫琴·普茨', '劳拉·格林伍德', 'Kyra Meyer', '玛丽·萧克莱 ', '理查德·莱恩', 'Michael Simkins', '大卫·雷奇', '马尔科姆·辛克莱', '马迪斯·兰德维尔', 'Simon Newby', '保罗·安东尼·巴伯'], 'is_watched': False}, {'rating': ['8.9', '45'], 'rank': 19, 'cover_url': 'https://img3.doubanio.com/view/photo/s_ratio_poster/public/p657823840.jpg', 'is_playable': False, 'id': '1300299', 'types': ['剧情', '动作', '犯罪', '悬疑', '惊悚'], 'regions': ['韩国'], 'title': '杀人回忆', 'url': 'https://movie.douban.com/subject/1300299/', 'release_date': '2003-05-02', 'actor_count': 48, 'vote_count': 564409, 'score': '8.9', 'actors': ['宋康昊', '金相庆', '金雷夏', '宋在浩', '边希峰', '高瑞熙', '柳泰浩', '朴努植', '朴海日', '全美善', '徐永嬅', '崔钟律', '刘承睦', '申贤宗', '李在应', '郑仁仙', '吴龙', '朴真宇', '朴泰京', '沈成宝', '朴镇宇', '廉惠兰', '李东勇', '赵德济', '申文成', '孙康国', '李大贤', '李玉珠', '刘仁秀', '千明宰', '郭秀贞', '曹文义', '朴贤英', '申贤胜', '權炳吉', '金熙珍', '崔铉基', '金荷景', '金景来', '金景来', '白奉基', '孙镇浩', '金周灵', '刘琴', '禹高娜', '李勋京', '申云燮', '李江山'], 'is_watched': False}, {'rating': ['8.9', '45'], 'rank': 20, 'cover_url': 'https://img1.doubanio.com/view/photo/s_ratio_poster/public/p2004174709.jpg', 'is_playable': True, 'id': '1294639', 'types': ['动作', '传记', '剧情', '历史', '战争'], 'regions': ['美国'], 'title': '勇敢的心', 'url': 'https://movie.douban.com/subject/1294639/', 'release_date': '1995-05-18', 'actor_count': 23, 'vote_count': 494327, 'score': '8.9', 'actors': ['梅尔·吉布森', '苏菲·玛索', '布莱恩·考克斯', '詹姆斯·科兹莫', '辛·劳洛', '凯瑟琳·麦克马克', '安古斯·麦克菲登', '布莱丹·格里森', '詹姆斯·霍纳', '彼得·穆兰', '汤米·弗拉纳根', '艾伦·阿姆斯特朗', '大卫·奥哈拉', '帕特里克·麦高汉', '伊安·邦纳', '梅丽·卡尔维', '史蒂芬·比灵顿', '迈克尔·伯恩', '亚力克斯·诺顿', '杰拉德·迈克索利', '詹姆斯·鲁宾逊', '辛·麦金利', 'Donal Gibson'], 'is_watched': False}]\n"
     ]
    }
   ],
   "source": [
    "# 需求：爬取豆瓣电影分类排行榜 https://movie.douban.com/中的电影详情数据\n",
    "import requests\n",
    "if __name__ == \"__main__\":\n",
    "    #指定ajax-get请求的url（通过抓包进行获取）\n",
    "    url = 'https://movie.douban.com/j/chart/top_list?'\n",
    "    #定制请求头信息，相关的头信息必须封装在字典结构中\n",
    "    headers = {\n",
    "        #定制请求头中的User-Agent参数，当然也可以定制请求头中其他的参数\n",
    "        'User-Agent': 'Mozilla/5.0 (Windows NT 6.1; Win64; x64) AppleWebKit/537.36 (KHTML, like Gecko) Chrome/66.0.3359.181 Safari/537.36',\n",
    "    }\n",
    "    #定制get请求携带的参数(从抓包工具中获取)\n",
    "    param = {\n",
    "        'type':'5',\n",
    "        'interval_id':'100:90',\n",
    "        'action':'',\n",
    "        'start':'0',\n",
    "        'limit':'20'\n",
    "    }\n",
    "    #发起get请求，获取响应对象\n",
    "    response = requests.get(url=url,headers=headers,params=param)\n",
    "    #获取响应内容\n",
    "    print(response.json())"
   ]
  },
  {
   "cell_type": "code",
   "execution_count": 4,
   "id": "43324fe8",
   "metadata": {},
   "outputs": [
    {
     "name": "stdout",
     "output_type": "stream",
     "text": [
      "<Response [504]>\n"
     ]
    }
   ],
   "source": [
    "# 需求：爬取肯德基餐厅查询http://www.kfc.com.cn/kfccda/index.aspx中指定地点的餐厅数据\n",
    "import requests\n",
    "if __name__ == \"__main__\":\n",
    "    #指定ajax-post请求的url（通过抓包进行获取）\n",
    "    url = 'http://www.kfc.com.cn/kfccda/ashx/GetStoreList.ashx?op=keyword'\n",
    "    #定制请求头信息，相关的头信息必须封装在字典结构中\n",
    "    headers = {\n",
    "        #定制请求头中的User-Agent参数，当然也可以定制请求头中其他的参数\n",
    "        'User-Agent': 'Mozilla/5.0 (Windows NT 6.1; Win64; x64) AppleWebKit/537.36 (KHTML, like Gecko) Chrome/66.0.3359.181 Safari/537.36',\n",
    "    }\n",
    "    #定制post请求携带的参数(从抓包工具中获取)\n",
    "    data = {\n",
    "        'cname':'',\n",
    "        'pid':'',\n",
    "        'keyword':'北京',\n",
    "        'pageIndex': '1',\n",
    "        'pageSize': '10'\n",
    "    }\n",
    "    #发起post请求，获取响应对象\n",
    "    response = requests.get(url=url,headers=headers,data=data)\n",
    "    #获取响应内容\n",
    "    print(response)"
   ]
  },
  {
   "cell_type": "code",
   "execution_count": 9,
   "id": "1b01aa6f",
   "metadata": {},
   "outputs": [],
   "source": [
    "# https://www.nmpa.gov.cn/hzhp/index.html\n",
    "# 需求：爬取国家药品监督管理总局中基于中华人民共和国化妆品生产许可证相关数据\n",
    "\n",
    "import requests\n",
    "# from fake_useragent import UserAgent\n",
    "# ua = UserAgent(use_cache_server=False,verify_ssl=False).random\n",
    "# headers = {\n",
    "#     'User-Agent':ua\n",
    "# }\n",
    "headers = {\n",
    "    #定制请求头中的User-Agent参数，当然也可以定制请求头中其他的参数\n",
    "    'User-Agent': 'Mozilla/5.0 (Windows NT 6.1; Win64; x64) AppleWebKit/537.36 (KHTML, like Gecko) Chrome/66.0.3359.181 Safari/537.36',\n",
    "}\n",
    "url = 'http://125.35.6.84:81/xk/itownet/portalAction.do?method=getXkzsList'\n",
    "pageNum = 3\n",
    "for page in range(3,5):\n",
    "    data = {\n",
    "        'on': 'true',\n",
    "        'page': str(page),\n",
    "        'pageSize': '5',\n",
    "        'productName':'',\n",
    "        'conditionType': '1',\n",
    "        'applyname':'',\n",
    "        'applysn':''\n",
    "    }\n",
    "    json_text = requests.post(url=url,data=data,headers=headers).json()\n",
    "    all_id_list = []\n",
    "    for dict in json_text['list']:\n",
    "        id = dict['ID']#用于二级页面数据获取\n",
    "        #下列详情信息可以在二级页面中获取\n",
    "        # name = dict['EPS_NAME']\n",
    "        # product = dict['PRODUCT_SN']\n",
    "        # man_name = dict['QF_MANAGER_NAME']\n",
    "        # d1 = dict['XC_DATE']\n",
    "        # d2 = dict['XK_DATE']\n",
    "        all_id_list.append(id)\n",
    "    #该url是一个ajax的post请求\n",
    "    post_url = 'http://125.35.6.84:81/xk/itownet/portalAction.do?method=getXkzsById'\n",
    "    for id in  all_id_list:\n",
    "        post_data = {\n",
    "            'id':id\n",
    "        }\n",
    "        response = requests.post(url=post_url,data=post_data,headers=headers)\n",
    "        if response.headers['Content-Type'] == 'application/json;charset=UTF-8':\n",
    "            #print(response.json())\n",
    "            #进行json解析\n",
    "            json_text = response.json()\n",
    "            print(json_text['businessPerson'])"
   ]
  },
  {
   "cell_type": "markdown",
   "id": "5c0b9063",
   "metadata": {},
   "source": [
    "![RegEx](./images/regex.png)"
   ]
  },
  {
   "cell_type": "code",
   "execution_count": 15,
   "id": "52d3a56b",
   "metadata": {},
   "outputs": [
    {
     "data": {
      "text/plain": [
       "['saas', 'sas']"
      ]
     },
     "execution_count": 15,
     "metadata": {},
     "output_type": "execute_result"
    }
   ],
   "source": [
    "# 正则使用\n",
    "\n",
    "import re\n",
    "#提取出python\n",
    "key=\"javapythonc++php\"\n",
    "re.findall('python',key)[0]\n",
    "#####################################################################\n",
    "#提取出hello world\n",
    "key=\"hello world\"\n",
    "re.findall('(.*)',key)[0]\n",
    "#####################################################################\n",
    "#提取170\n",
    "string = '我喜欢身高为170的女孩'\n",
    "re.findall('\\d+',string)\n",
    "#####################################################################\n",
    "#提取出http://和https://\n",
    "key='http://www.baidu.com and https://boob.com'\n",
    "re.findall('https?://',key)\n",
    "#####################################################################\n",
    "#提取出hello\n",
    "key='lalalahellohahah' #输出hello\n",
    "re.findall('<[Hh][Tt][mM][lL]>(.*)',key)\n",
    "#####################################################################\n",
    "#提取出hit. \n",
    "key='bobo@hit.edu.com'#想要匹配到hit.\n",
    "re.findall('h.*?\\.',key)\n",
    "#####################################################################\n",
    "#匹配sas和saas\n",
    "key='saas and sas and saaas'\n",
    "re.findall('sa{1,2}s',key)"
   ]
  },
  {
   "cell_type": "code",
   "execution_count": null,
   "id": "bf013212",
   "metadata": {},
   "outputs": [],
   "source": []
  }
 ],
 "metadata": {
  "kernelspec": {
   "display_name": "Python 3",
   "language": "python",
   "name": "python3"
  },
  "language_info": {
   "codemirror_mode": {
    "name": "ipython",
    "version": 3
   },
   "file_extension": ".py",
   "mimetype": "text/x-python",
   "name": "python",
   "nbconvert_exporter": "python",
   "pygments_lexer": "ipython3",
   "version": "3.7.10"
  }
 },
 "nbformat": 4,
 "nbformat_minor": 5
}
